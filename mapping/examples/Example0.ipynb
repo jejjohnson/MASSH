{
 "cells": [
  {
   "cell_type": "markdown",
   "metadata": {},
   "source": [
    "# Example 0\n",
    "This notebook, associated to the configuration file *config_Example0.py*, runs a forward QG propagation from a NATL60 initial state"
   ]
  },
  {
   "cell_type": "markdown",
   "metadata": {},
   "source": [
    "## Configuration file"
   ]
  },
  {
   "cell_type": "code",
   "execution_count": 1,
   "metadata": {},
   "outputs": [],
   "source": [
    "path_config = 'config_Example0.py'"
   ]
  },
  {
   "cell_type": "code",
   "execution_count": 2,
   "metadata": {},
   "outputs": [],
   "source": [
    "import sys\n",
    "sys.path.append('..')"
   ]
  },
  {
   "cell_type": "code",
   "execution_count": 3,
   "metadata": {},
   "outputs": [],
   "source": [
    "from src import exp\n",
    "config = exp.exp(path_config)"
   ]
  },
  {
   "cell_type": "markdown",
   "metadata": {},
   "source": [
    "## State"
   ]
  },
  {
   "cell_type": "code",
   "execution_count": 4,
   "metadata": {},
   "outputs": [],
   "source": [
    "from src import state as state\n",
    "State = state.State(config)"
   ]
  },
  {
   "cell_type": "markdown",
   "metadata": {},
   "source": [
    "## Model"
   ]
  },
  {
   "cell_type": "code",
   "execution_count": 5,
   "metadata": {},
   "outputs": [
    {
     "name": "stdout",
     "output_type": "stream",
     "text": [
      "Model: QG1L\n"
     ]
    }
   ],
   "source": [
    "from src import mod as mod\n",
    "Model = mod.Model(config,State)"
   ]
  },
  {
   "cell_type": "markdown",
   "metadata": {},
   "source": [
    "## Observations"
   ]
  },
  {
   "cell_type": "code",
   "execution_count": 6,
   "metadata": {},
   "outputs": [
    {
     "name": "stdout",
     "output_type": "stream",
     "text": [
      "None observation has been provided\n"
     ]
    }
   ],
   "source": [
    "from src import obs as obs\n",
    "dict_obs = obs.obs(config,State)"
   ]
  },
  {
   "cell_type": "markdown",
   "metadata": {},
   "source": [
    "## Assimilation"
   ]
  },
  {
   "cell_type": "code",
   "execution_count": null,
   "metadata": {},
   "outputs": [
    {
     "name": "stdout",
     "output_type": "stream",
     "text": [
      "2012-10-01 00:00:00\n",
      "2012-10-01 01:00:00\n",
      "2012-10-01 02:00:00\n",
      "2012-10-01 03:00:00\n",
      "2012-10-01 04:00:00\n",
      "2012-10-01 05:00:00\n",
      "2012-10-01 06:00:00\n",
      "2012-10-01 07:00:00\n",
      "2012-10-01 08:00:00\n",
      "2012-10-01 09:00:00\n",
      "2012-10-01 10:00:00\n",
      "2012-10-01 11:00:00\n",
      "2012-10-01 12:00:00\n",
      "2012-10-01 13:00:00\n"
     ]
    }
   ],
   "source": [
    "from src import ana as ana\n",
    "ana.ana(config,State,Model,dict_obs=dict_obs)"
   ]
  },
  {
   "cell_type": "markdown",
   "metadata": {},
   "source": [
    "## Visualize outputs"
   ]
  },
  {
   "cell_type": "code",
   "execution_count": null,
   "metadata": {},
   "outputs": [],
   "source": [
    "import matplotlib.pylab as plt"
   ]
  },
  {
   "cell_type": "code",
   "execution_count": null,
   "metadata": {},
   "outputs": [],
   "source": [
    "State0 = State.free()\n",
    "State0.load(date=config.init_date)\n",
    "State1 = State.free()\n",
    "State1.load(date=config.final_date)"
   ]
  },
  {
   "cell_type": "code",
   "execution_count": null,
   "metadata": {},
   "outputs": [],
   "source": [
    "SSH_0 = State0.getvar(ind=0)\n",
    "SSH_1 = State1.getvar(ind=0)"
   ]
  },
  {
   "cell_type": "code",
   "execution_count": null,
   "metadata": {},
   "outputs": [],
   "source": [
    "fig = plt.figure(figsize=(20,5))\n",
    "ax = fig.add_subplot(131)\n",
    "ax.set_title('$SSH(t_0)$')\n",
    "im = ax.pcolormesh(State.lon,State.lat,SSH_0, shading='auto')\n",
    "plt.colorbar(im)\n",
    "ax = fig.add_subplot(132)\n",
    "ax.set_title('$SSH(t_1)$')\n",
    "im = ax.pcolormesh(State.lon,State.lat,SSH_1, shading='auto')\n",
    "plt.colorbar(im)\n",
    "ax = fig.add_subplot(133)\n",
    "ax.set_title('$SSH(t_1)-SSH(t_0)$')\n",
    "im = ax.pcolormesh(State.lon,State.lat,SSH_1-SSH_0,cmap='RdBu_r', shading='auto')\n",
    "plt.colorbar(im)"
   ]
  },
  {
   "cell_type": "code",
   "execution_count": null,
   "metadata": {},
   "outputs": [],
   "source": []
  }
 ],
 "metadata": {
  "kernelspec": {
   "display_name": "Python 3",
   "language": "python",
   "name": "python3"
  },
  "language_info": {
   "codemirror_mode": {
    "name": "ipython",
    "version": 3
   },
   "file_extension": ".py",
   "mimetype": "text/x-python",
   "name": "python",
   "nbconvert_exporter": "python",
   "pygments_lexer": "ipython3",
   "version": "3.8.5"
  }
 },
 "nbformat": 4,
 "nbformat_minor": 4
}

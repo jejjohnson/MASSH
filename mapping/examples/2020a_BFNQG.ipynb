{
 "cells": [
  {
   "cell_type": "markdown",
   "metadata": {},
   "source": [
    "# 2020a_BFNQG\n",
    "This notebook, associated to the configuration file *config_2020a_BFNQG.py* runs a BFN-QG experiment to map SSH from simulated SWOT and Nadir data"
   ]
  },
  {
   "cell_type": "markdown",
   "metadata": {},
   "source": [
    "## Configuration file"
   ]
  },
  {
   "cell_type": "code",
   "execution_count": 1,
   "metadata": {},
   "outputs": [],
   "source": [
    "path_config = 'config_2020a_BFNQG'"
   ]
  },
  {
   "cell_type": "code",
   "execution_count": 2,
   "metadata": {},
   "outputs": [],
   "source": [
    "import sys\n",
    "sys.path.append('..')"
   ]
  },
  {
   "cell_type": "code",
   "execution_count": 3,
   "metadata": {},
   "outputs": [
    {
     "name": "stdout",
     "output_type": "stream",
     "text": [
      "name_experiment: 2020a_BFNQG\n",
      "saveoutputs: True\n",
      "name_exp_save: 2020a_BFNQG\n",
      "path_save: ../outputs/2020a_BFNQG\n",
      "tmp_DA_path: ../scratch/2020a_BFNQG\n",
      "init_date: 2012-10-01 00:00:00\n",
      "final_date: 2012-12-09 00:00:00\n",
      "assimilation_time_step: 6:00:00\n",
      "saveoutput_time_step: 6:00:00\n",
      "flag_plot: 1\n",
      "write_obs: True\n",
      "path_obs: ../obs/2020a_BFNQG\n",
      "name_lon: lon\n",
      "name_lat: lat\n",
      "name_time: time\n",
      "plot_time_step: 1 day, 0:00:00\n",
      "time_obs_min: None\n",
      "time_obs_max: None\n",
      "compute_obs: False\n",
      "\n",
      "NAME_OBSOP is not set in the configuration file\n",
      "NAME_BASIS is not set in the configuration file\n"
     ]
    }
   ],
   "source": [
    "from src import exp\n",
    "config = exp.Exp(path_config)"
   ]
  },
  {
   "cell_type": "markdown",
   "metadata": {},
   "source": [
    "## State"
   ]
  },
  {
   "cell_type": "code",
   "execution_count": 4,
   "metadata": {},
   "outputs": [
    {
     "name": "stdout",
     "output_type": "stream",
     "text": [
      "super: GRID_GEO\n",
      "lon_min: 295.0\n",
      "lon_max: 305.0\n",
      "lat_min: 33.0\n",
      "lat_max: 43.0\n",
      "dlon: 0.1\n",
      "dlat: 0.1\n",
      "name_init_mask: None\n",
      "name_var_mask: {'lon': '', 'lat': '', 'var': ''}\n",
      "\n"
     ]
    }
   ],
   "source": [
    "from src import state as state\n",
    "State = state.State(config)\n"
   ]
  },
  {
   "cell_type": "markdown",
   "metadata": {},
   "source": [
    "## Observations"
   ]
  },
  {
   "cell_type": "code",
   "execution_count": 5,
   "metadata": {},
   "outputs": [
    {
     "name": "stdout",
     "output_type": "stream",
     "text": [
      "Observation information will be saved in dict_obs_J1_20121001_20121209_295_305_33_43.txt\n",
      "Reading dict_obs_J1_20121001_20121209_295_305_33_43.txt from previous run\n"
     ]
    }
   ],
   "source": [
    "from src import obs as obs\n",
    "dict_obs = obs.Obs(config,State)"
   ]
  },
  {
   "cell_type": "markdown",
   "metadata": {},
   "source": [
    "## Model"
   ]
  },
  {
   "cell_type": "code",
   "execution_count": 8,
   "metadata": {},
   "outputs": [
    {
     "name": "stdout",
     "output_type": "stream",
     "text": [
      "super: MOD_QG1L_NP\n",
      "name_var: {'SSH': 'ssh', 'PV': 'pv'}\n",
      "name_init_var: {}\n",
      "dir_model: None\n",
      "dtmodel: 1200\n",
      "upwind: 3\n",
      "upwind_adj: None\n",
      "Reynolds: False\n",
      "qgiter: 20\n",
      "qgiter_adj: None\n",
      "c0: 2.7\n",
      "filec_aux: None\n",
      "name_var_c: {'lon': '', 'lat': '', 'var': ''}\n",
      "cmin: None\n",
      "cmax: None\n",
      "only_diffusion: False\n",
      "path_mdt: None\n",
      "name_var_mdt: {'lon': '', 'lat': '', 'mdt': '', 'mdu': '', 'mdv': ''}\n",
      "g: 9.81\n",
      "\n"
     ]
    }
   ],
   "source": [
    "from src import mod as mod\n",
    "Model = mod.Model(config,State)"
   ]
  },
  {
   "cell_type": "markdown",
   "metadata": {},
   "source": [
    "## Boundary conditions"
   ]
  },
  {
   "cell_type": "code",
   "execution_count": 9,
   "metadata": {},
   "outputs": [
    {
     "name": "stdout",
     "output_type": "stream",
     "text": [
      "super: BC_EXT\n",
      "file: ../../2020a_SSH_mapping_NATL60/2020a_SSH_mapping_NATL60_DUACS_swot_en_j1_tpn_g2.nc\n",
      "name_lon: lon\n",
      "name_lat: lat\n",
      "name_time: time\n",
      "name_var: {'SSH': 'gssh'}\n",
      "name_mod_var: {'SSH': 'ssh'}\n",
      "dist_sponge: 50\n",
      "\n"
     ]
    },
    {
     "ename": "OSError",
     "evalue": "no files to open",
     "output_type": "error",
     "traceback": [
      "\u001b[0;31m---------------------------------------------------------------------------\u001b[0m",
      "\u001b[0;31mOSError\u001b[0m                                   Traceback (most recent call last)",
      "\u001b[1;32m/home/fleguillou/Dev/MASSH/mapping/examples/2020a_BFNQG.ipynb Cell 13\u001b[0m in \u001b[0;36m<cell line: 2>\u001b[0;34m()\u001b[0m\n\u001b[1;32m      <a href='vscode-notebook-cell://ssh-remote%2B185.178.86.142/home/fleguillou/Dev/MASSH/mapping/examples/2020a_BFNQG.ipynb#X15sdnNjb2RlLXJlbW90ZQ%3D%3D?line=0'>1</a>\u001b[0m \u001b[39mfrom\u001b[39;00m \u001b[39msrc\u001b[39;00m \u001b[39mimport\u001b[39;00m bc \u001b[39mas\u001b[39;00m bc\n\u001b[0;32m----> <a href='vscode-notebook-cell://ssh-remote%2B185.178.86.142/home/fleguillou/Dev/MASSH/mapping/examples/2020a_BFNQG.ipynb#X15sdnNjb2RlLXJlbW90ZQ%3D%3D?line=1'>2</a>\u001b[0m Bc \u001b[39m=\u001b[39m bc\u001b[39m.\u001b[39;49mBc(config)\n",
      "File \u001b[0;32m~/Dev/MASSH/mapping/examples/../src/bc.py:34\u001b[0m, in \u001b[0;36mBc\u001b[0;34m(config, *args, **kwargs)\u001b[0m\n\u001b[1;32m     31\u001b[0m \u001b[39mprint\u001b[39m(config\u001b[39m.\u001b[39mBC)\n\u001b[1;32m     33\u001b[0m \u001b[39mif\u001b[39;00m config\u001b[39m.\u001b[39mBC\u001b[39m.\u001b[39msuper\u001b[39m==\u001b[39m\u001b[39m'\u001b[39m\u001b[39mBC_EXT\u001b[39m\u001b[39m'\u001b[39m:\n\u001b[0;32m---> 34\u001b[0m     \u001b[39mreturn\u001b[39;00m Bc_ext(config)\n\u001b[1;32m     35\u001b[0m \u001b[39melse\u001b[39;00m:\n\u001b[1;32m     36\u001b[0m     sys\u001b[39m.\u001b[39mexit(config\u001b[39m.\u001b[39mOBSOP\u001b[39m.\u001b[39msuper \u001b[39m+\u001b[39m \u001b[39m'\u001b[39m\u001b[39m not implemented yet\u001b[39m\u001b[39m'\u001b[39m)\n",
      "File \u001b[0;32m~/Dev/MASSH/mapping/examples/../src/bc.py:43\u001b[0m, in \u001b[0;36mBc_ext.__init__\u001b[0;34m(self, config)\u001b[0m\n\u001b[1;32m     41\u001b[0m \u001b[39mdef\u001b[39;00m \u001b[39m__init__\u001b[39m(\u001b[39mself\u001b[39m,config):\n\u001b[0;32m---> 43\u001b[0m     ds \u001b[39m=\u001b[39m xr\u001b[39m.\u001b[39;49mopen_mfdataset(config\u001b[39m.\u001b[39;49mBC\u001b[39m.\u001b[39;49mfile)\n\u001b[1;32m     44\u001b[0m     \u001b[39mprint\u001b[39m(ds)\n\u001b[1;32m     45\u001b[0m     \u001b[39mself\u001b[39m\u001b[39m.\u001b[39mlon \u001b[39m=\u001b[39m ds[config\u001b[39m.\u001b[39mBC\u001b[39m.\u001b[39mname_lon]\u001b[39m.\u001b[39mvalues \u001b[39m%\u001b[39m\u001b[39m360\u001b[39m\n",
      "File \u001b[0;32m~/anaconda3/envs/env-plot/lib/python3.10/site-packages/xarray/backends/api.py:953\u001b[0m, in \u001b[0;36mopen_mfdataset\u001b[0;34m(paths, chunks, concat_dim, compat, preprocess, engine, data_vars, coords, combine, parallel, join, attrs_file, combine_attrs, **kwargs)\u001b[0m\n\u001b[1;32m    950\u001b[0m     paths \u001b[39m=\u001b[39m [os\u001b[39m.\u001b[39mfspath(p) \u001b[39mif\u001b[39;00m \u001b[39misinstance\u001b[39m(p, os\u001b[39m.\u001b[39mPathLike) \u001b[39melse\u001b[39;00m p \u001b[39mfor\u001b[39;00m p \u001b[39min\u001b[39;00m paths]\n\u001b[1;32m    952\u001b[0m \u001b[39mif\u001b[39;00m \u001b[39mnot\u001b[39;00m paths:\n\u001b[0;32m--> 953\u001b[0m     \u001b[39mraise\u001b[39;00m \u001b[39mOSError\u001b[39;00m(\u001b[39m\"\u001b[39m\u001b[39mno files to open\u001b[39m\u001b[39m\"\u001b[39m)\n\u001b[1;32m    955\u001b[0m \u001b[39mif\u001b[39;00m combine \u001b[39m==\u001b[39m \u001b[39m\"\u001b[39m\u001b[39mnested\u001b[39m\u001b[39m\"\u001b[39m:\n\u001b[1;32m    956\u001b[0m     \u001b[39mif\u001b[39;00m \u001b[39misinstance\u001b[39m(concat_dim, (\u001b[39mstr\u001b[39m, DataArray)) \u001b[39mor\u001b[39;00m concat_dim \u001b[39mis\u001b[39;00m \u001b[39mNone\u001b[39;00m:\n",
      "\u001b[0;31mOSError\u001b[0m: no files to open"
     ]
    }
   ],
   "source": [
    "from src import bc as bc\n",
    "Bc = bc.Bc(config)"
   ]
  },
  {
   "cell_type": "markdown",
   "metadata": {},
   "source": [
    "## Inversion"
   ]
  },
  {
   "cell_type": "code",
   "execution_count": 10,
   "metadata": {},
   "outputs": [
    {
     "ename": "NameError",
     "evalue": "name 'Bc' is not defined",
     "output_type": "error",
     "traceback": [
      "\u001b[0;31m---------------------------------------------------------------------------\u001b[0m",
      "\u001b[0;31mNameError\u001b[0m                                 Traceback (most recent call last)",
      "\u001b[1;32m/home/fleguillou/Dev/MASSH/mapping/examples/2020a_BFNQG.ipynb Cell 15\u001b[0m in \u001b[0;36m<cell line: 2>\u001b[0;34m()\u001b[0m\n\u001b[1;32m      <a href='vscode-notebook-cell://ssh-remote%2B185.178.86.142/home/fleguillou/Dev/MASSH/mapping/examples/2020a_BFNQG.ipynb#X20sdnNjb2RlLXJlbW90ZQ%3D%3D?line=0'>1</a>\u001b[0m \u001b[39mfrom\u001b[39;00m \u001b[39msrc\u001b[39;00m \u001b[39mimport\u001b[39;00m inv \u001b[39mas\u001b[39;00m inv\n\u001b[0;32m----> <a href='vscode-notebook-cell://ssh-remote%2B185.178.86.142/home/fleguillou/Dev/MASSH/mapping/examples/2020a_BFNQG.ipynb#X20sdnNjb2RlLXJlbW90ZQ%3D%3D?line=1'>2</a>\u001b[0m inv\u001b[39m.\u001b[39mInv(config,State,Model,dict_obs\u001b[39m=\u001b[39mdict_obs,Bc\u001b[39m=\u001b[39mBc)\n",
      "\u001b[0;31mNameError\u001b[0m: name 'Bc' is not defined"
     ]
    }
   ],
   "source": [
    "from src import inv as inv\n",
    "inv.Inv(config,State,Model,dict_obs=dict_obs,Bc=Bc)"
   ]
  },
  {
   "cell_type": "markdown",
   "metadata": {},
   "source": [
    "## Diagnostics"
   ]
  },
  {
   "cell_type": "code",
   "execution_count": null,
   "metadata": {},
   "outputs": [],
   "source": [
    "from src import diag as diag\n",
    "Diag = diag.Diag(config,State)"
   ]
  },
  {
   "cell_type": "code",
   "execution_count": null,
   "metadata": {},
   "outputs": [],
   "source": [
    "Diag.regrid_exp()"
   ]
  },
  {
   "cell_type": "code",
   "execution_count": null,
   "metadata": {},
   "outputs": [],
   "source": [
    "Diag.rmse_based_scores(plot=True)"
   ]
  },
  {
   "cell_type": "code",
   "execution_count": null,
   "metadata": {},
   "outputs": [],
   "source": [
    "Diag.psd_based_scores(plot=True)"
   ]
  },
  {
   "cell_type": "code",
   "execution_count": null,
   "metadata": {},
   "outputs": [],
   "source": [
    "Diag.movie(framerate=12)"
   ]
  },
  {
   "cell_type": "code",
   "execution_count": null,
   "metadata": {},
   "outputs": [],
   "source": [
    "import os\n",
    "from IPython.display import Video\n",
    "Video(os.path.join(Diag.dir_output, 'movie.mp4'))"
   ]
  },
  {
   "cell_type": "code",
   "execution_count": null,
   "metadata": {},
   "outputs": [],
   "source": [
    "Leaderboard = Diag.Leaderboard()\n",
    "Leaderboard"
   ]
  },
  {
   "cell_type": "code",
   "execution_count": null,
   "metadata": {},
   "outputs": [],
   "source": []
  }
 ],
 "metadata": {
  "kernelspec": {
   "display_name": "Python 3.10.4 ('env-plot': conda)",
   "language": "python",
   "name": "python3"
  },
  "language_info": {
   "codemirror_mode": {
    "name": "ipython",
    "version": 3
   },
   "file_extension": ".py",
   "mimetype": "text/x-python",
   "name": "python",
   "nbconvert_exporter": "python",
   "pygments_lexer": "ipython3",
   "version": "3.10.4"
  },
  "vscode": {
   "interpreter": {
    "hash": "78b767bc73e83775d284238556dee940a86bc4d5d535f6dfd44ceeea93cd0788"
   }
  }
 },
 "nbformat": 4,
 "nbformat_minor": 4
}

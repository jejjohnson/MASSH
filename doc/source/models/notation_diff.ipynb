{
 "cells": [
  {
   "cell_type": "markdown",
   "id": "d137938f-2d70-4431-be28-b21556d91b56",
   "metadata": {},
   "source": [
    "# Diffusion model"
   ]
  },
  {
   "cell_type": "markdown",
   "id": "ee724615-71f2-4716-9ed0-52d4b3e243a7",
   "metadata": {},
   "source": [
    "## Solved equation"
   ]
  },
  {
   "cell_type": "raw",
   "id": "0ac7e544-c939-40ef-abda-1f1d283ebc3c",
   "metadata": {},
   "source": [
    "The diffusion model is the simplest model used in MASSH. Its unique prognostic equation applies to the SSH :math:`\\eta` :\n",
    "\n",
    "$$ \\partial_t \\eta - K_{diff} \\Delta \\eta = 0 $$ \n",
    "\n",
    "where :math:`\\Delta = \\partial^2_x + \\partial^2_y` and :math:`K_{diffus}` is the diffusion coefficient, indicating the strenght of the diffusion. \n",
    "\n",
    "This model is linear and auto-adjoint, greatly facilating its implementation with 4Dvar data assimilation technique.\n",
    "Note that setting :math:`K_{diffus}=0` gives the identity model, which can be used for static inversions.\n"
   ]
  },
  {
   "cell_type": "markdown",
   "id": "14b2905b-2982-458f-9382-3c86a2ae2c77",
   "metadata": {},
   "source": [
    "## Numerical implementation"
   ]
  },
  {
   "cell_type": "code",
   "execution_count": null,
   "id": "c47f9c02-0911-412c-bcd1-66c44677a743",
   "metadata": {},
   "outputs": [],
   "source": []
  }
 ],
 "metadata": {
  "kernelspec": {
   "display_name": "Python 3 (ipykernel)",
   "language": "python",
   "name": "python3"
  },
  "language_info": {
   "codemirror_mode": {
    "name": "ipython",
    "version": 3
   },
   "file_extension": ".py",
   "mimetype": "text/x-python",
   "name": "python",
   "nbconvert_exporter": "python",
   "pygments_lexer": "ipython3",
   "version": "3.9.12"
  }
 },
 "nbformat": 4,
 "nbformat_minor": 5
}

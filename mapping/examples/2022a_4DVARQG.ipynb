{
 "cells": [
  {
   "cell_type": "markdown",
   "metadata": {},
   "source": [
    "# 2020a_4DVARQG\n",
    "This notebook, associated to the configuration file *config_2020a_4DVARQG.py* runs a BFN-QG experiment to map SSH from simulated SWOT and Nadir data"
   ]
  },
  {
   "cell_type": "markdown",
   "metadata": {},
   "source": [
    "## Configuration file"
   ]
  },
  {
   "cell_type": "code",
   "execution_count": 1,
   "metadata": {},
   "outputs": [],
   "source": [
    "path_config = 'config_2022a_4DVARQG'"
   ]
  },
  {
   "cell_type": "code",
   "execution_count": 2,
   "metadata": {},
   "outputs": [],
   "source": [
    "import sys\n",
    "sys.path.append('..')"
   ]
  },
  {
   "cell_type": "code",
   "execution_count": 3,
   "metadata": {},
   "outputs": [
    {
     "name": "stdout",
     "output_type": "stream",
     "text": [
      "name_experiment: 2022a_4DVARQG\n",
      "saveoutputs: True\n",
      "name_exp_save: 2022a_4DVARQG\n",
      "path_save: ../outputs/2022a_4DVARQG\n",
      "tmp_DA_path: ../scratch/2022a_4DVARQG\n",
      "init_date: 2012-02-01 00:00:00\n",
      "final_date: 2012-03-01 00:00:00\n",
      "assimilation_time_step: 1:00:00\n",
      "saveoutput_time_step: 12:00:00\n",
      "flag_plot: 0\n",
      "write_obs: True\n",
      "path_obs: ../obs/2022a_4DVARQG\n",
      "name_lon: lon\n",
      "name_lat: lat\n",
      "name_time: time\n",
      "plot_time_step: 1 day, 0:00:00\n",
      "time_obs_min: None\n",
      "time_obs_max: None\n",
      "compute_obs: False\n",
      "\n",
      "NAME_BC is not set in the configuration file\n"
     ]
    }
   ],
   "source": [
    "\n",
    "from src import exp\n",
    "config = exp.Exp(path_config)"
   ]
  },
  {
   "cell_type": "markdown",
   "metadata": {},
   "source": [
    "## State"
   ]
  },
  {
   "cell_type": "code",
   "execution_count": 4,
   "metadata": {},
   "outputs": [
    {
     "name": "stdout",
     "output_type": "stream",
     "text": [
      "super: GRID_CAR\n",
      "lon_min: 230.0\n",
      "lon_max: 240\n",
      "lat_min: 30.0\n",
      "lat_max: 40\n",
      "dx: 25.0\n",
      "name_init_mask: ../aux/aux_mdt_cnes_cls18_global.nc\n",
      "name_var_mask: {'lon': 'longitude', 'lat': 'latitude', 'var': 'mdt'}\n",
      "\n"
     ]
    }
   ],
   "source": [
    "from src import state as state\n",
    "State = state.State(config)"
   ]
  },
  {
   "cell_type": "markdown",
   "metadata": {},
   "source": [
    "## Model"
   ]
  },
  {
   "cell_type": "code",
   "execution_count": 5,
   "metadata": {},
   "outputs": [
    {
     "name": "stdout",
     "output_type": "stream",
     "text": [
      "super: MOD_QG1L_JAX\n",
      "name_var: {'SSH': 'ssh'}\n",
      "name_init_var: {}\n",
      "dir_model: None\n",
      "multiscale: False\n",
      "dtmodel: 1200\n",
      "time_scheme: Euler\n",
      "upwind: 3\n",
      "upwind_adj: None\n",
      "Reynolds: False\n",
      "c0: 2.7\n",
      "filec_aux: None\n",
      "name_var_c: {'lon': '', 'lat': '', 'var': ''}\n",
      "cmin: None\n",
      "cmax: None\n",
      "only_diffusion: False\n",
      "path_mdt: None\n",
      "name_var_mdt: {'lon': '', 'lat': '', 'mdt': '', 'mdu': '', 'mdv': ''}\n",
      "g: 9.81\n",
      "\n"
     ]
    }
   ],
   "source": [
    "from src import mod as mod\n",
    "Model = mod.Model(config,State)"
   ]
  },
  {
   "cell_type": "code",
   "execution_count": 6,
   "metadata": {},
   "outputs": [],
   "source": [
    "from src import bc as bc\n",
    "Bc = bc.Bc(config)"
   ]
  },
  {
   "cell_type": "markdown",
   "metadata": {},
   "source": [
    "## Observations"
   ]
  },
  {
   "cell_type": "code",
   "execution_count": 7,
   "metadata": {},
   "outputs": [
    {
     "name": "stdout",
     "output_type": "stream",
     "text": [
      "Observation information will be saved in dict_obs_SWOT_ALG_C2_H2G_J2G_J2N_J3_S3A_20120201_20120301_230_240_30_39.txt\n",
      "Reading dict_obs_SWOT_ALG_C2_H2G_J2G_J2N_J3_S3A_20120201_20120301_230_240_30_39.txt from previous run\n"
     ]
    }
   ],
   "source": [
    "from src import obs as obs\n",
    "dict_obs = obs.Obs(config,State)"
   ]
  },
  {
   "cell_type": "code",
   "execution_count": 8,
   "metadata": {},
   "outputs": [
    {
     "name": "stdout",
     "output_type": "stream",
     "text": [
      "super: OBSOP_INTERP\n",
      "path_save: None\n",
      "compute_op: False\n",
      "Npix: 4\n",
      "mask_coast: False\n",
      "dist_coast: 100\n",
      "mask_borders: False\n",
      "\n"
     ]
    }
   ],
   "source": [
    "from src import obsop as obsop\n",
    "Obsop = obsop.Obsop(config,State,dict_obs,Model)"
   ]
  },
  {
   "cell_type": "markdown",
   "metadata": {},
   "source": [
    "## Reduced Basis"
   ]
  },
  {
   "cell_type": "code",
   "execution_count": 9,
   "metadata": {},
   "outputs": [
    {
     "name": "stdout",
     "output_type": "stream",
     "text": [
      "super: BASIS_BM\n",
      "name_mod_var: ssh\n",
      "flux: False\n",
      "save_wave_basis: False\n",
      "wavelet_init: True\n",
      "facns: 1.0\n",
      "facnlt: 2.0\n",
      "npsp: 3.5\n",
      "facpsp: 1.5\n",
      "lmin: 80\n",
      "lmax: 970.0\n",
      "lmeso: 300\n",
      "tmeso: 10\n",
      "sloptdec: -1.0\n",
      "factdec: 0.5\n",
      "tdecmin: 0.0\n",
      "tdecmax: 20.0\n",
      "facQ: 1\n",
      "Qmax: 0.03\n",
      "slopQ: -2\n",
      "\n"
     ]
    }
   ],
   "source": [
    "from src import basis as basis\n",
    "Basis = basis.Basis(config, State)"
   ]
  },
  {
   "cell_type": "markdown",
   "metadata": {},
   "source": [
    "## Assimilation"
   ]
  },
  {
   "cell_type": "code",
   "execution_count": 10,
   "metadata": {},
   "outputs": [
    {
     "name": "stdout",
     "output_type": "stream",
     "text": [
      "super: INV_4DVAR\n",
      "compute_test: False\n",
      "path_init_4Dvar: None\n",
      "restart_4Dvar: False\n",
      "gtol: 0.001\n",
      "maxiter: 10\n",
      "opt_method: L-BFGS-B\n",
      "save_minimization: False\n",
      "timestep_checkpoint: 6:00:00\n",
      "sigma_R: 0.01\n",
      "sigma_B: None\n",
      "prec: True\n",
      "prescribe_background: False\n",
      "bkg_satellite: None\n",
      "path_background: None\n",
      "bkg_Kdiffus: 0.0\n",
      "name_bkg_var: res\n",
      "bkg_maxiter: 30\n",
      "bkg_maxiter_inner: 10\n",
      "largescale_error_ratio: 1\n",
      "only_largescale: False\n",
      "\n",
      "--> 273 checkpoints to evaluate the cost function\n",
      "lambda=9.7E+02 nlocs=4.0E+00 tdec=1.0E+01 Q=2.1E-02\n",
      "lambda=6.8E+02 nlocs=4.0E+00 tdec=1.0E+01 Q=2.1E-02\n",
      "lambda=4.8E+02 nlocs=8.0E+00 tdec=7.9E+00 Q=2.1E-02\n",
      "lambda=3.3E+02 nlocs=9.0E+00 tdec=5.6E+00 Q=2.1E-02\n",
      "lambda=2.3E+02 nlocs=1.6E+01 tdec=3.9E+00 Q=1.3E-02\n",
      "lambda=1.6E+02 nlocs=2.5E+01 tdec=2.7E+00 Q=6.3E-03\n",
      "lambda=1.1E+02 nlocs=4.2E+01 tdec=1.9E+00 Q=3.1E-03\n",
      "lambda=8.0E+01 nlocs=7.2E+01 tdec=1.3E+00 Q=1.5E-03\n"
     ]
    },
    {
     "name": "stderr",
     "output_type": "stream",
     "text": [
      "WARNING:absl:No GPU/TPU found, falling back to CPU. (Set TF_CPP_MIN_LOG_LEVEL=0 and rerun for more info.)\n"
     ]
    },
    {
     "name": "stdout",
     "output_type": "stream",
     "text": [
      "reduced order: 491400 --> 108198\n",
      " reduced factor: 4\n",
      "\n",
      "*** Minimization ***\n",
      "\n",
      "RUNNING THE L-BFGS-B CODE\n",
      "\n",
      "           * * *\n",
      "\n",
      "Machine precision = 2.220D-16\n",
      " N =       108198     M =           10\n",
      "\n",
      "At X0         0 variables are exactly at the bounds\n",
      "\n",
      "At iterate    0    f=  7.51267D+07    |proj g|=  8.12314D+06\n"
     ]
    },
    {
     "name": "stderr",
     "output_type": "stream",
     "text": [
      " This problem is unconstrained.\n"
     ]
    },
    {
     "name": "stdout",
     "output_type": "stream",
     "text": [
      "\n",
      "At iterate    1    f=  4.73130D+07    |proj g|=  5.68618D+06\n",
      "\n",
      "At iterate    2    f=  2.17754D+07    |proj g|=  9.55263D+05\n"
     ]
    }
   ],
   "source": [
    "from src import inv as inv\n",
    "inv.Inv(config,State,Model,dict_obs=dict_obs,Obsop=Obsop,Basis=Basis,Bc=Bc)"
   ]
  },
  {
   "cell_type": "markdown",
   "metadata": {},
   "source": [
    "## Diagnostics"
   ]
  },
  {
   "cell_type": "code",
   "execution_count": null,
   "metadata": {},
   "outputs": [],
   "source": [
    "from src import diag as diag\n",
    "Diag = diag.Diag(config,State)"
   ]
  },
  {
   "cell_type": "code",
   "execution_count": null,
   "metadata": {},
   "outputs": [],
   "source": [
    "Diag.regrid_exp()"
   ]
  },
  {
   "cell_type": "code",
   "execution_count": null,
   "metadata": {},
   "outputs": [],
   "source": [
    "Diag.rmse_based_scores(plot=True)"
   ]
  },
  {
   "cell_type": "code",
   "execution_count": null,
   "metadata": {},
   "outputs": [],
   "source": [
    "Diag.psd_based_scores(plot=True)"
   ]
  },
  {
   "cell_type": "code",
   "execution_count": null,
   "metadata": {},
   "outputs": [],
   "source": [
    "Diag.movie(framerate=12,clim=(0,.5),range_err=.2)"
   ]
  },
  {
   "cell_type": "code",
   "execution_count": null,
   "metadata": {},
   "outputs": [],
   "source": [
    "import os\n",
    "from IPython.display import Video\n",
    "Video(os.path.join(Diag.dir_output, 'movie.mp4'))"
   ]
  },
  {
   "cell_type": "code",
   "execution_count": null,
   "metadata": {},
   "outputs": [],
   "source": [
    "Leaderboard = Diag.Leaderboard()\n",
    "Leaderboard"
   ]
  },
  {
   "cell_type": "code",
   "execution_count": null,
   "metadata": {},
   "outputs": [],
   "source": []
  }
 ],
 "metadata": {
  "kernelspec": {
   "display_name": "Python 3.10.4 ('env-plot': conda)",
   "language": "python",
   "name": "python3"
  },
  "language_info": {
   "codemirror_mode": {
    "name": "ipython",
    "version": 3
   },
   "file_extension": ".py",
   "mimetype": "text/x-python",
   "name": "python",
   "nbconvert_exporter": "python",
   "pygments_lexer": "ipython3",
   "version": "3.10.4"
  },
  "vscode": {
   "interpreter": {
    "hash": "78b767bc73e83775d284238556dee940a86bc4d5d535f6dfd44ceeea93cd0788"
   }
  }
 },
 "nbformat": 4,
 "nbformat_minor": 4
}
